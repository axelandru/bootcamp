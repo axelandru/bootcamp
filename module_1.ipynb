{
 "cells": [
  {
   "cell_type": "code",
   "execution_count": 1,
   "metadata": {},
   "outputs": [
    {
     "name": "stdout",
     "output_type": "stream",
     "text": [
      "NAME from module_1.py: module_1\n",
      "FILE from module_1.py: c:\\Users\\Laptop 6\\Desktop\\Pa_i\\module_1.py\n",
      "module_1 -- a = 1\n",
      "1\n",
      "1\n",
      "2\n",
      "124\n",
      "124\n",
      "2\n",
      "dir()-->['In', 'Out', '_', '__', '___', '__builtin__', '__builtins__', '__doc__', '__loader__', '__name__', '__package__', '__spec__', '__vsc_ipynb_file__', '_dh', '_i', '_i1', '_ih', '_ii', '_iii', '_oh', 'a', 'b', 'bb', 'exit', 'get_ipython', 'module_1', 'os', 'quit', 'sys']\n",
      "dir(module_1)-->['__builtins__', '__cached__', '__doc__', '__file__', '__loader__', '__name__', '__package__', '__spec__', 'a', 'b', 'c']\n",
      "there you go!\n",
      "from module_3: c:\\Users\\Laptop 6\\Desktop\\Pa_i\\module_3\\module_3.py\n",
      "changed\n"
     ]
    }
   ],
   "source": [
    "import module_1\n",
    "print(module_1.a)\n",
    "\n",
    "from module_1 import a\n",
    "print(a)\n",
    "print(module_1.b)\n",
    "\n",
    "from module_1 import b\n",
    "b=124\n",
    "print(b)\n",
    "\n",
    "from module_1 import b as bb\n",
    "print(b)\n",
    "print(bb)\n",
    "\n",
    "\n",
    "print(f\"dir()-->{dir()}\")\n",
    "print(f\"dir(module_1)-->{dir(module_1)}\")\n",
    "\n",
    "import sys\n",
    "import module_3.module_3"
   ]
  }
 ],
 "metadata": {
  "kernelspec": {
   "display_name": "Python 3.9.12 ('base')",
   "language": "python",
   "name": "python3"
  },
  "language_info": {
   "codemirror_mode": {
    "name": "ipython",
    "version": 3
   },
   "file_extension": ".py",
   "mimetype": "text/x-python",
   "name": "python",
   "nbconvert_exporter": "python",
   "pygments_lexer": "ipython3",
   "version": "3.9.12"
  },
  "orig_nbformat": 4,
  "vscode": {
   "interpreter": {
    "hash": "d31b83e9610685068a0fe73b54051d44dc1110027bef1c52e64b671e72faac45"
   }
  }
 },
 "nbformat": 4,
 "nbformat_minor": 2
}
